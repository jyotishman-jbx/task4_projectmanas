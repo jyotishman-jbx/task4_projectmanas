{
 "cells": [
  {
   "cell_type": "markdown",
   "id": "f23b39af",
   "metadata": {},
   "source": [
    "## 1. Overview\n",
    "Stored as pickle files, each of the batch files contains a dictionary with the following elements:\n",
    "\n",
    "* data -- a 10000x1024 numpy array of uint8s. Each row of the array stores a 32x32 black and white image\n",
    "\n",
    "* labels -- a list of 10000 numbers in the range 0-9. The number at index i indicates the label of the ith image in the array data.\n",
    "\n",
    "\n",
    "The dataset contains another file, called batches.meta. It too contains a Python dictionary object. It has the following entries:\n",
    "\n",
    "* label_names -- a 10-element list which gives meaningful names to the numeric labels in the labels array described above.  For example, label_names[0] == \"airplane\", label_names[1] == \"automobile\", etc."
   ]
  },
  {
   "cell_type": "code",
   "execution_count": 1069,
   "id": "6ead5c55",
   "metadata": {},
   "outputs": [
    {
     "data": {
      "text/plain": [
       "{'num_cases_per_batch': 10000,\n",
       " 'label_names': ['airplane',\n",
       "  'automobile',\n",
       "  'bird',\n",
       "  'cat',\n",
       "  'deer',\n",
       "  'dog',\n",
       "  'frog',\n",
       "  'horse',\n",
       "  'ship',\n",
       "  'truck'],\n",
       " 'num_vis': 3072}"
      ]
     },
     "execution_count": 1069,
     "metadata": {},
     "output_type": "execute_result"
    }
   ],
   "source": [
    "import numpy as np\n",
    "import pandas as pd\n",
    "import matplotlib.pyplot as plt\n",
    "\n",
    "file_name = \"batches.meta\"\n",
    "data = pd.read_pickle(file_name)\n",
    "data"
   ]
  },
  {
   "cell_type": "code",
   "execution_count": 1070,
   "id": "8cc29a0c",
   "metadata": {},
   "outputs": [
    {
     "data": {
      "text/plain": [
       "array([[ 61,  44,  48, ..., 188, 124,  99],\n",
       "       [171, 133, 103, ..., 136, 137, 137],\n",
       "       [255, 252, 252, ...,  82,  82,  83],\n",
       "       ...,\n",
       "       [ 71,  62,  77, ...,  74,  76,  78],\n",
       "       [253, 253, 219, ..., 212, 255, 254],\n",
       "       [ 51,  51,  51, ..., 181, 181, 181]], dtype=uint8)"
      ]
     },
     "execution_count": 1070,
     "metadata": {},
     "output_type": "execute_result"
    }
   ],
   "source": [
    "file_name = \"data_batch_1\"\n",
    "data = pd.read_pickle(file_name)\n",
    "label1 = data[b'labels']\n",
    "data1 = data[b'data']\n",
    "#x=np.array(label1).reshape(10000)\n",
    "#print(label1)\n",
    "data1"
   ]
  },
  {
   "cell_type": "code",
   "execution_count": 1071,
   "id": "ecdc7eac",
   "metadata": {},
   "outputs": [
    {
     "data": {
      "text/plain": [
       "array([[ 28,  22,  21, ..., 168, 167, 166],\n",
       "       [ 16,  16,  14, ..., 151, 132,  84],\n",
       "       [101, 102, 131, ...,  39, 111, 145],\n",
       "       ...,\n",
       "       [149, 161, 179, ..., 197, 192, 191],\n",
       "       [184, 191, 198, ..., 173, 189, 195],\n",
       "       [162, 160, 167, ..., 143, 149, 158]], dtype=uint8)"
      ]
     },
     "execution_count": 1071,
     "metadata": {},
     "output_type": "execute_result"
    }
   ],
   "source": [
    "file_name = \"data_batch_2\"\n",
    "data = pd.read_pickle(file_name)\n",
    "label2 = data[b'labels']\n",
    "data2 = data[b'data']\n",
    "#print(label2)\n",
    "data2"
   ]
  },
  {
   "cell_type": "code",
   "execution_count": 1072,
   "id": "e6120f09",
   "metadata": {},
   "outputs": [
    {
     "data": {
      "text/plain": [
       "array([[ 24,  16,  11, ...,  12,  11,  12],\n",
       "       [ 85,  90,  84, ..., 165, 167, 138],\n",
       "       [184, 162, 168, ..., 250, 250, 250],\n",
       "       ...,\n",
       "       [160, 190, 194, ..., 128,  68,  54],\n",
       "       [ 24,  55,  62, ...,  66,  77,  80],\n",
       "       [ 55,  33,  48, ..., 114, 107, 100]], dtype=uint8)"
      ]
     },
     "execution_count": 1072,
     "metadata": {},
     "output_type": "execute_result"
    }
   ],
   "source": [
    "file_name = \"data_batch_3\"\n",
    "data = pd.read_pickle(file_name)\n",
    "label3 = data[b'labels']\n",
    "data3 = data[b'data']\n",
    "#print(label3)\n",
    "data3"
   ]
  },
  {
   "cell_type": "code",
   "execution_count": 1073,
   "id": "e13336f6",
   "metadata": {},
   "outputs": [
    {
     "data": {
      "text/plain": [
       "array([[178, 178, 178, ...,  85,  87,  85],\n",
       "       [ 35,  28,  31, ...,  25,  27,  26],\n",
       "       [ 60,  54,  47, ..., 177, 174, 174],\n",
       "       ...,\n",
       "       [145, 139, 122, ..., 143, 153, 141],\n",
       "       [ 72,  74,  75, ...,  49,  63,  52],\n",
       "       [246, 247, 247, ..., 178, 171, 167]], dtype=uint8)"
      ]
     },
     "execution_count": 1073,
     "metadata": {},
     "output_type": "execute_result"
    }
   ],
   "source": [
    "file_name = \"data_batch_4\"\n",
    "data = pd.read_pickle(file_name)\n",
    "label4 = data[b'labels']\n",
    "data4 = data[b'data']\n",
    "#print(label4)\n",
    "data4"
   ]
  },
  {
   "cell_type": "code",
   "execution_count": 1074,
   "id": "f4f78971",
   "metadata": {},
   "outputs": [
    {
     "data": {
      "text/plain": [
       "array([[254, 251, 252, ..., 173, 231, 247],\n",
       "       [142, 141, 142, ...,  85,  91,  95],\n",
       "       [ 79,  40,   9, ...,  28,  25,  23],\n",
       "       ...,\n",
       "       [141, 142, 142, ...,  47,  38,  27],\n",
       "       [207, 204, 203, ..., 185, 189, 189],\n",
       "       [230, 237, 236, ..., 177, 163, 162]], dtype=uint8)"
      ]
     },
     "execution_count": 1074,
     "metadata": {},
     "output_type": "execute_result"
    }
   ],
   "source": [
    "file_name = \"data_batch_5\"\n",
    "data = pd.read_pickle(file_name)\n",
    "label5 = data[b'labels']\n",
    "data5 = data[b'data']\n",
    "#print(label5)\n",
    "data5"
   ]
  },
  {
   "cell_type": "code",
   "execution_count": 1075,
   "id": "cdc2b8f4",
   "metadata": {},
   "outputs": [
    {
     "data": {
      "text/plain": [
       "array([[118, 118, 123, ...,  66,  73,  57],\n",
       "       [235, 230, 232, ..., 177, 190, 195],\n",
       "       [183, 181, 160, ...,   5,   4,   7],\n",
       "       ...,\n",
       "       [ 16,  15,  13, ...,  26,  27,  24],\n",
       "       [ 32,  26,  33, ..., 109, 109, 107],\n",
       "       [ 76, 102, 104, ..., 112,  65,  26]], dtype=uint8)"
      ]
     },
     "execution_count": 1075,
     "metadata": {},
     "output_type": "execute_result"
    }
   ],
   "source": [
    "file_name = \"data_batch_6\"\n",
    "data = pd.read_pickle(file_name)\n",
    "label6 = data[b'labels']\n",
    "data6 = data[b'data']\n",
    "#print(label6)\n",
    "data6"
   ]
  },
  {
   "cell_type": "code",
   "execution_count": 1076,
   "id": "0998f9e2",
   "metadata": {},
   "outputs": [
    {
     "data": {
      "text/plain": [
       "(60000, 1024)"
      ]
     },
     "execution_count": 1076,
     "metadata": {},
     "output_type": "execute_result"
    }
   ],
   "source": [
    "combined_data=np.concatenate((data1,data2,data3,data4,data5,data5),axis=0)\n",
    "combined_data.shape"
   ]
  },
  {
   "cell_type": "code",
   "execution_count": 1077,
   "id": "b3927dd5",
   "metadata": {},
   "outputs": [
    {
     "data": {
      "text/plain": [
       "(60000,)"
      ]
     },
     "execution_count": 1077,
     "metadata": {},
     "output_type": "execute_result"
    }
   ],
   "source": [
    "combined_label=np.concatenate((label1,label2,label3,label4,label5,label6),axis=0)\n",
    "combined_label.shape"
   ]
  },
  {
   "cell_type": "code",
   "execution_count": 1078,
   "id": "fce00a7f",
   "metadata": {},
   "outputs": [],
   "source": [
    "#for 1st batch \n",
    "#parameters\n",
    "x_train = combined_data[:50000].T\n",
    "y_train = np.array(combined_label[:50000]).reshape(1,-1)\n",
    "x_test = combined_data[50000:].T\n",
    "y_test = np.array(combined_label[50000:]).reshape(1,-1)\n",
    "#x_train.shape= (1024, 50000)\n",
    "#y_train.shape (1, 50000)\n",
    "#x_test.shape (1024, 10000)"
   ]
  },
  {
   "cell_type": "code",
   "execution_count": 1079,
   "id": "3b9032b7",
   "metadata": {},
   "outputs": [],
   "source": [
    "#normalising the data\n",
    "x_train = x_train.astype('float32')/255\n",
    "x_test = x_test.astype('float32')/255\n",
    "y_train = y_train.astype('float32')/9\n",
    "y_test = y_test.astype('float32')/9\n"
   ]
  },
  {
   "cell_type": "code",
   "execution_count": 1080,
   "id": "5cbc0027",
   "metadata": {},
   "outputs": [],
   "source": [
    "#no. of training examples\n",
    "m = x_train.shape[1]"
   ]
  },
  {
   "cell_type": "code",
   "execution_count": 1081,
   "id": "1598ddd1",
   "metadata": {},
   "outputs": [],
   "source": [
    "#hyperparameters\n",
    "def init_parameters(n_x, n_h, n_y):\n",
    "    w1 = np.random.randn(n_h, n_x)*0.01 # (n_h, 1024)\n",
    "    b1 = np.zeros((n_h, 1)) # (n_h, 1)\n",
    "\n",
    "    w2 = np.random.randn(1, n_h)*0.01 # (1, 1000)\n",
    "    b2 = np.zeros((n_y, 1)) # (1,1)\n",
    "    \n",
    "    return w1, b1, w2, b2"
   ]
  },
  {
   "cell_type": "code",
   "execution_count": 1082,
   "id": "eaa3a4ea",
   "metadata": {},
   "outputs": [],
   "source": [
    "def relu(z):\n",
    "    return np.maximum(z, 0)"
   ]
  },
  {
   "cell_type": "code",
   "execution_count": 1083,
   "id": "dafcdabc",
   "metadata": {},
   "outputs": [],
   "source": [
    "def softmax(z):\n",
    "    return np.exp(z)/np.sum(np.exp(z))"
   ]
  },
  {
   "cell_type": "code",
   "execution_count": 1084,
   "id": "3dcfa261",
   "metadata": {},
   "outputs": [],
   "source": [
    "def derivative_relu(x):\n",
    "    return np.array(x > 0, dtype = np.float32)"
   ]
  },
  {
   "cell_type": "code",
   "execution_count": 1085,
   "id": "e5e82976",
   "metadata": {},
   "outputs": [],
   "source": [
    "def forward_prop(x, w1, b1, w2, b2):\n",
    "    z1 = np.dot(w1, x) + b1\n",
    "    a1 = relu(z1)\n",
    "    \n",
    "    z2 = np.dot(w2, a1) + b2\n",
    "    a2 = softmax(z2)\n",
    "    \n",
    "#     print(\"value of a1:\", a1)\n",
    "#     print(\"value of a2:\", a2) [0., 0., 0., ....0.]\n",
    "    \n",
    "#     print(\"shape of a1\",a1.shape) (n_h=100, 50000)\n",
    "#     print(\"shape of a2\",a2.shape) (w2.shape[0]=1, 50000)\n",
    "    \n",
    "    return a1, a2, z1"
   ]
  },
  {
   "cell_type": "code",
   "execution_count": 1086,
   "id": "9fc5deb2",
   "metadata": {},
   "outputs": [],
   "source": [
    "def cost_func(a2, y):\n",
    "    m = y.shape[1] # (50000)\n",
    "    cost = -(1/m)*np.sum(y*np.log(a2))\n",
    "    #print(\"cost: =\",cost)\n",
    "    return cost"
   ]
  },
  {
   "cell_type": "code",
   "execution_count": 1087,
   "id": "85330afe",
   "metadata": {},
   "outputs": [],
   "source": [
    "def back_prop(x, y, w1, b1, w2, b2, a1, a2, z1):\n",
    "    dz2 = a2 - y # a2=(1, 50000), y=(1, 50000)\n",
    "    #print(\"value of dz2\", dz2)\n",
    "    #print(\"shape of dz2:\", dz2.shape) # (1,5000)\n",
    "    \n",
    "    dw2 = (1/m)*np.dot(dz2, a1.T)\n",
    "    #print(\"value of dw2\",dw2)\n",
    "    #print(\"shape of dw2\", dw2.shape)  #(1, n_h=100)\n",
    "    \n",
    "    db2 = (1/m)*np.sum(dz2, axis = 1, keepdims = True)\n",
    "    #print(\"value of db2\", db2)\n",
    "    #print(\"shape of db2\", db2.shape) # (1,1)\n",
    "    \n",
    "    dz1 = np.dot(w2.T, dz2)*derivative_relu(z1) \n",
    "    #print(\"shape of dz1\", dz1.shape) #(n_h=100, 50000)\n",
    "    \n",
    "    dw1 = (1/m)*np.dot(dz1, x.T)\n",
    "    #print(\"shape of dw1\", dw1.shape) #(n_h=100, 1024)\n",
    "    \n",
    "    db1 = (1/m)*np.sum(dz1, axis = 1, keepdims = True)  \n",
    "    #print(\"shape of db1\", db1.shape) # (n_h=100, 1)\n",
    "    \n",
    "    return dw1, db1, dw2, db2"
   ]
  },
  {
   "cell_type": "code",
   "execution_count": 1088,
   "id": "679dbfc0",
   "metadata": {},
   "outputs": [],
   "source": [
    "def gradient_desc(w1, b1, w2, b2, learning_rate, dw1, db1, dw2, db2):\n",
    "    w1 = w1 - learning_rate*dw1\n",
    "    #print(\"w1\", w1)\n",
    "    #print(\"shape of w1\", w1.shape) (n_h=100, 1024)\n",
    "    \n",
    "    b1 = b1 - learning_rate*db1\n",
    "    #print(\"b1\", b1)\n",
    "    #print(\"shape of b1\", b1.shape) (n_h=100,1)\n",
    "    \n",
    "    w2 = w2 - learning_rate*dw2\n",
    "    #print(\"w2\", w2)\n",
    "    #print(\"shape of w2\", w2.shape) (1, n_h=100)\n",
    "    \n",
    "    b2 = b2 - learning_rate*db2\n",
    "    #print(\"b2\", b2)\n",
    "    #print(\"shape of b2\", b2.shape) (1,1)\n",
    "    \n",
    "    return w1, b1, w2, b2"
   ]
  },
  {
   "cell_type": "code",
   "execution_count": 1089,
   "id": "d6a9ea82",
   "metadata": {},
   "outputs": [],
   "source": [
    "def nn_model(x, y, n_h, learning_rate, iterations):\n",
    "    \n",
    "    n_x = x.shape[0]\n",
    "    n_y = y.shape[0]\n",
    "    \n",
    "    cost_list = []\n",
    "    w1, b1, w2, b2 = init_parameters(n_x, n_h, n_y)\n",
    "    \n",
    "    for i in range(iterations):\n",
    "        a1, a2, z1 = forward_prop(x, w1, b1, w2, b2)\n",
    "        cost = cost_func(a2, y)\n",
    "        dw1, db1, dw2, db2 = back_prop(x, y, w1, b1, w2, b2, a1, a2, z1)\n",
    "        w1 ,b1, w2, b2 = gradient_desc(w1, b1, w2, b2, learning_rate, dw1, db1, dw2, db2)\n",
    "        cost_list.append(cost)\n",
    "        \n",
    "        #if((i/10)==0):\n",
    "        print(i,\": \", cost)\n",
    "    #print(\"cost_list\", cost_list)\n",
    "    return w1, b1, w2, b2 , cost_list    "
   ]
  },
  {
   "cell_type": "code",
   "execution_count": 1090,
   "id": "3f652972",
   "metadata": {},
   "outputs": [
    {
     "name": "stdout",
     "output_type": "stream",
     "text": [
      "0 :  5.409865091488733\n",
      "1 :  5.409887412750779\n",
      "2 :  5.409929950125736\n",
      "3 :  5.4100131792970085\n",
      "4 :  5.41016241932613\n",
      "5 :  5.410411999888198\n",
      "6 :  5.410826840947984\n",
      "7 :  5.41152305714022\n",
      "8 :  5.412702232841781\n",
      "9 :  5.414714965572304\n"
     ]
    }
   ],
   "source": [
    "learning_rate=0.02\n",
    "iterations=10\n",
    "n_h = 100 #changed from 1000 to 100\n",
    "#w1, b1, w2, b2, cost_list = nn_model(x_train, y_train, learning_rate = learning_rate, iterations = iterations)\n",
    "w1, b1, w2, b2, cost_list= nn_model(x_train, y_train, n_h, learning_rate = learning_rate, iterations = iterations)"
   ]
  },
  {
   "cell_type": "code",
   "execution_count": 1091,
   "id": "747732f4",
   "metadata": {},
   "outputs": [
    {
     "data": {
      "image/png": "[encoded data removed]",
      "text/plain": [
       "<Figure size 432x288 with 1 Axes>"
      ]
     },
     "metadata": {
      "needs_background": "light"
     },
     "output_type": "display_data"
    }
   ],
   "source": [
    "t = np.arange(0, iterations)\n",
    "plt.plot(t, cost_list)\n",
    "plt.show()"
   ]
  },
  {
   "cell_type": "code",
   "execution_count": 1092,
   "id": "37e54a6c",
   "metadata": {},
   "outputs": [],
   "source": [
    "def accuracy(input_param, labels, w1, b1, w2, b2):\n",
    "    a1, a2, z1 = forward_prop(input_param, w1, b1, w2, b2)    \n",
    "    a2 = np.argmax(a2, 0)  # 0 represents row wise \n",
    "    \n",
    "    labels = np.argmax(labels, 0)\n",
    "    \n",
    "    acc = np.mean(a2 == labels)*100\n",
    "    \n",
    "    return acc"
   ]
  },
  {
   "cell_type": "code",
   "execution_count": 1093,
   "id": "e8baff03",
   "metadata": {},
   "outputs": [
    {
     "name": "stdout",
     "output_type": "stream",
     "text": [
      "Accuracy of Train Dataset 100.0 %\n",
      "Accuracy of Test Dataset 100.0 %\n"
     ]
    }
   ],
   "source": [
    "print(\"Accuracy of Train Dataset\", accuracy(x_train, y_train, w1 ,b1, w2, b2), \"%\")\n",
    "print(\"Accuracy of Test Dataset\", round(accuracy(x_test, y_test, w1 ,b1, w2, b2), 2), \"%\")"
   ]
  }
 ],
 "metadata": {
  "kernelspec": {
   "display_name": "Python 3 (ipykernel)",
   "language": "python",
   "name": "python3"
  },
  "language_info": {
   "codemirror_mode": {
    "name": "ipython",
    "version": 3
   },
   "file_extension": ".py",
   "mimetype": "text/x-python",
   "name": "python",
   "nbconvert_exporter": "python",
   "pygments_lexer": "ipython3",
   "version": "3.9.10"
  }
 },
 "nbformat": 4,
 "nbformat_minor": 5
}
